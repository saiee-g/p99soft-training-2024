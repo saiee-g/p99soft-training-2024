{
 "cells": [
  {
   "cell_type": "markdown",
   "id": "c7ff3d75-e409-4c82-9d40-76b1f53b699e",
   "metadata": {},
   "source": [
    "# RESTful API\n"
   ]
  },
  {
   "cell_type": "code",
   "execution_count": null,
   "id": "c74c755a-83d1-48c8-a0c8-622528083000",
   "metadata": {},
   "outputs": [],
   "source": []
  }
 ],
 "metadata": {
  "kernelspec": {
   "display_name": "Python 3 (ipykernel)",
   "language": "python",
   "name": "python3"
  },
  "language_info": {
   "codemirror_mode": {
    "name": "ipython",
    "version": 3
   },
   "file_extension": ".py",
   "mimetype": "text/x-python",
   "name": "python",
   "nbconvert_exporter": "python",
   "pygments_lexer": "ipython3",
   "version": "3.12.0"
  }
 },
 "nbformat": 4,
 "nbformat_minor": 5
}
