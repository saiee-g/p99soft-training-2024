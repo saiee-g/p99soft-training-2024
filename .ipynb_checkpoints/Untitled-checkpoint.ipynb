{
 "cells": [
  {
   "cell_type": "code",
   "execution_count": null,
   "id": "61810f1a-a2f0-4469-aedc-00003d7ad2b6",
   "metadata": {},
   "outputs": [],
   "source": [
    "!pip install uvicorn nest_asyncio\n",
    "from fastapi import FastAPI\n",
    "import uvicorn\n",
    "import nest_asyncio\n",
    "nest_asyncio.apply()\n",
    "app = FastAPI()\n",
    "\n",
    "@app.get(\"/\")\n",
    "def root():\n",
    "    return{\"message\" : \"hi\"}\n",
    "\n",
    "config = uvicorn.Config(app=app, host=\"127.0.0.1\", port=\"8000\")\n",
    "server = uvicorn.Server(config)\n",
    "\n",
    "server.run()"
   ]
  },
  {
   "cell_type": "code",
   "execution_count": null,
   "id": "5ceea4b8-87cb-4354-8d49-5e4b321a3d3a",
   "metadata": {},
   "outputs": [],
   "source": [
    "nest_asyncio.apply()\n",
    "app = FastAPI()\n",
    "\n",
    "@app.get(\"/\")\n",
    "def root():\n",
    "    return{\"hi\"}\n",
    "\n",
    "config = uvicorn.Config(app=app, host=\"127.0.0.1\", port=\"8000\")\n",
    "server = uvicorn.Server(config)\n",
    "\n",
    "server.run()"
   ]
  },
  {
   "cell_type": "code",
   "execution_count": null,
   "id": "8e97de3a-95a1-476a-8649-e83d1e13e61f",
   "metadata": {},
   "outputs": [],
   "source": []
  },
  {
   "cell_type": "code",
   "execution_count": null,
   "id": "b15b52f7-4e6f-47a4-82e7-db312c17972c",
   "metadata": {},
   "outputs": [],
   "source": []
  },
  {
   "cell_type": "code",
   "execution_count": null,
   "id": "ce66ab9b-95a6-4e2a-b1e6-a1a725e53d86",
   "metadata": {},
   "outputs": [],
   "source": []
  }
 ],
 "metadata": {
  "kernelspec": {
   "display_name": "Python 3 (ipykernel)",
   "language": "python",
   "name": "python3"
  },
  "language_info": {
   "codemirror_mode": {
    "name": "ipython",
    "version": 3
   },
   "file_extension": ".py",
   "mimetype": "text/x-python",
   "name": "python",
   "nbconvert_exporter": "python",
   "pygments_lexer": "ipython3",
   "version": "3.12.0"
  }
 },
 "nbformat": 4,
 "nbformat_minor": 5
}
