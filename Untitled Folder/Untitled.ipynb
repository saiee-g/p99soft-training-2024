{
 "cells": [
  {
   "cell_type": "code",
   "execution_count": 24,
   "id": "6bba5592-3c62-4a82-88a0-9f329f3003a6",
   "metadata": {},
   "outputs": [
    {
     "name": "stdout",
     "output_type": "stream",
     "text": [
      "0 True\n",
      "3 False\n",
      "0 True\n",
      "stack is empty\n"
     ]
    }
   ],
   "source": [
    "class Stack:\n",
    "    def __init__(self):\n",
    "        self.stack = []\n",
    "\n",
    "    def is_empty(self):\n",
    "        return len(self.stack) == 0\n",
    "\n",
    "    def push(self, element):\n",
    "        self.stack.append(element)\n",
    "\n",
    "    def pop(self):\n",
    "        if not self.is_empty():\n",
    "            return self.stack.pop()\n",
    "        else:\n",
    "            return \"stack is empty\"\n",
    "\n",
    "    def peek(self):\n",
    "        if not self.is_empty():\n",
    "            return self.stack[-1]\n",
    "        else:\n",
    "            return \"stack is empty\"\n",
    "\n",
    "    def size(self):\n",
    "        return len(self.stack)\n",
    "\n",
    "stack = Stack()\n",
    "print(stack.size(), stack.is_empty())\n",
    "stack.push(22)\n",
    "stack.push(13)\n",
    "stack.push(25)\n",
    "print(stack.size(), stack.is_empty())\n",
    "stack.pop()\n",
    "print(stack.size(), stack.is_empty())\n",
    "print(stack.peek())\n"
   ]
  },
  {
   "cell_type": "code",
   "execution_count": 30,
   "id": "e12c5344-da93-41c3-97fe-39332c7266b4",
   "metadata": {},
   "outputs": [
    {
     "name": "stdout",
     "output_type": "stream",
     "text": [
      "0 True\n",
      "3 False\n",
      "2 False\n",
      "7\n"
     ]
    }
   ],
   "source": [
    "class Queue:\n",
    "    def __init__(self):\n",
    "        self.queue =[]\n",
    "\n",
    "    def enqueue(self, element):\n",
    "        self.queue.append(element)\n",
    "\n",
    "    def is_empty(self):\n",
    "        return len(self.queue)==0\n",
    "\n",
    "    def dequeue(self):\n",
    "        if not self.is_empty():\n",
    "            return self.queue.pop()\n",
    "        else:\n",
    "            return \"Queue is empty\"\n",
    "\n",
    "    def peek(self):\n",
    "        if not self.is_empty():\n",
    "            return self.queue[0]\n",
    "        else:\n",
    "            return \"Queue is empty\"\n",
    "\n",
    "    def size(self):\n",
    "        return len(self.queue)\n",
    "\n",
    "queue = Queue()\n",
    "print(queue.size(), queue.is_empty())\n",
    "queue.enqueue(7)\n",
    "queue.enqueue(3)\n",
    "queue.enqueue(9)\n",
    "print(queue.size(), queue.is_empty())\n",
    "queue.dequeue()\n",
    "print(queue.size(), queue.is_empty())\n",
    "print(queue.peek())"
   ]
  }
 ],
 "metadata": {
  "kernelspec": {
   "display_name": "Python 3 (ipykernel)",
   "language": "python",
   "name": "python3"
  },
  "language_info": {
   "codemirror_mode": {
    "name": "ipython",
    "version": 3
   },
   "file_extension": ".py",
   "mimetype": "text/x-python",
   "name": "python",
   "nbconvert_exporter": "python",
   "pygments_lexer": "ipython3",
   "version": "3.12.0"
  }
 },
 "nbformat": 4,
 "nbformat_minor": 5
}
