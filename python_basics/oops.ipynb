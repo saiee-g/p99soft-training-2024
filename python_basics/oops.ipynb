{
 "cells": [
  {
   "cell_type": "code",
   "execution_count": 39,
   "id": "7e1b7730-7e8a-4f51-9964-df12167a167e",
   "metadata": {},
   "outputs": [
    {
     "name": "stdout",
     "output_type": "stream",
     "text": [
      "PREC\n",
      "PREC\n",
      "sid\n",
      "sid 9 [23, 24, 21]\n",
      "rahul 7 [25, 24, 23]\n",
      "sid\n",
      "22.666666666666668\n",
      "pass\n"
     ]
    }
   ],
   "source": [
    "class Student:\n",
    "    college_name = \"PREC\" #class attribute\n",
    "\n",
    "    def __init__(self):\n",
    "        pass        #default constructor\n",
    "\n",
    "    def __init__(self, name, roll_no, marks):  #parameterized constructor\n",
    "        self.name = name\n",
    "        self.roll_no = roll_no\n",
    "        self.marks = marks\n",
    "        self.result = False\n",
    "        print(name, roll_no, marks)\n",
    "    \n",
    "    def get_name(self):\n",
    "        return self.name\n",
    "\n",
    "    def avg_marks(self):\n",
    "        marks = self.marks\n",
    "        return sum(marks)/len(marks)\n",
    "\n",
    "    def results(self):\n",
    "        avg = self.avg_marks()\n",
    "        result = self.result\n",
    "        if avg>12:\n",
    "            result = True\n",
    "            return \"pass\"\n",
    "        else:\n",
    "            return \"fail\"\n",
    "      \n",
    "    @staticmethod    #decorator for static method\n",
    "    def hello():       \n",
    "        print(\"hello\")\n",
    "        \n",
    "print(Student.college_name)\n",
    "print(s1.college_name)\n",
    "print(s1.name)\n",
    "s1 = Student(\"sid\", 9, [23, 24, 21])\n",
    "s2 = Student(\"rahul\", 7, [25, 24, 23])\n",
    "print(s1.get_name())\n",
    "print(s1.avg_marks())\n",
    "print(s1.results())"
   ]
  },
  {
   "cell_type": "code",
   "execution_count": 9,
   "id": "c2406e9f-295c-42c6-a30c-a6b0a6dc5394",
   "metadata": {},
   "outputs": [
    {
     "name": "stdout",
     "output_type": "stream",
     "text": [
      "credited amount:  1200\n",
      "account balance:  11200\n",
      "debited amount:  900\n",
      "account balance:  10300\n"
     ]
    }
   ],
   "source": [
    "#abstraction and encapsulation\n",
    "class Bank:\n",
    "    def __init__(self, balance, acc_no, password):\n",
    "        self.__password = password #private attribute\n",
    "        self.balance = balance\n",
    "        self.acc_no = acc_no\n",
    "\n",
    "    def debit(self, debited):\n",
    "        self.balance -= debited\n",
    "        print(\"debited amount: \", debited)\n",
    "        print(\"account balance: \", self.get_balance())\n",
    "\n",
    "    def credit(self, credited):\n",
    "        self.balance += credited\n",
    "        print(\"credited amount: \", credited)\n",
    "        print(\"account balance: \", self.get_balance())\n",
    "\n",
    "    def get_balance(self):\n",
    "        return self.balance\n",
    "\n",
    "a1 = Bank(10000, 7890, \"abcde\")\n",
    "a1.get_balance()\n",
    "a1.credit(1200)\n",
    "a1.debit(900)"
   ]
  },
  {
   "cell_type": "markdown",
   "id": "0cced21e-f949-437c-a19c-742a3e45b28a",
   "metadata": {},
   "source": [
    "# Inheritance"
   ]
  },
  {
   "cell_type": "code",
   "execution_count": 14,
   "id": "df6704ca-6b92-4ec7-b91e-4afa637c52d4",
   "metadata": {},
   "outputs": [
    {
     "name": "stdout",
     "output_type": "stream",
     "text": [
      "hi from child, bubbles\n"
     ]
    }
   ],
   "source": [
    "#simple inheritance\n",
    "class Base:\n",
    "    def a(self):\n",
    "        print(\"Hi from a\")\n",
    "\n",
    "class Child(Base):\n",
    "    def hi(self, name):\n",
    "        print(\"hi from child,\", name)\n",
    "\n",
    "c = Child()\n",
    "c.hi(\"bubbles\")\n",
    "        "
   ]
  },
  {
   "cell_type": "code",
   "execution_count": 36,
   "id": "b5d3ca5f-aa9d-4098-8350-fbe7c7873e6a",
   "metadata": {},
   "outputs": [
    {
     "name": "stdout",
     "output_type": "stream",
     "text": [
      "You're in child2, meow\n",
      "hi from child, meow\n"
     ]
    }
   ],
   "source": [
    "#multilevel inheritance\n",
    "class Base:\n",
    "    def a(self):\n",
    "        print(\"Hi from a\")\n",
    "\n",
    "class Child(Base):\n",
    "    def __init__(self, name):\n",
    "        self.name = name\n",
    "        \n",
    "    def hi(self):\n",
    "        print(\"hi from child,\", self.name)\n",
    "\n",
    "class Child2(Child):\n",
    "    def __init(self, name):\n",
    "        super().__init__(name)  #super()\n",
    "        \n",
    "    def hii(self):\n",
    "        name = self.name\n",
    "        print(\"You're in child2,\", name)\n",
    "\n",
    "c=Child2(\"meow\")\n",
    "c.name\n",
    "c.hii()\n",
    "c.hi()"
   ]
  },
  {
   "cell_type": "code",
   "execution_count": 21,
   "id": "d4f3a7fe-0046-4c65-a244-533d3118a64c",
   "metadata": {},
   "outputs": [
    {
     "name": "stdout",
     "output_type": "stream",
     "text": [
      "Hi from child\n",
      "Hi from a\n",
      "Hi from b\n"
     ]
    }
   ],
   "source": [
    "#multiple inheritance\n",
    "class Base1:\n",
    "    def a(self):\n",
    "        print(\"Hi from a\")\n",
    "\n",
    "class Base2:\n",
    "    def b(self):\n",
    "        print(\"Hi from b\")\n",
    "\n",
    "class Child(Base1, Base2):\n",
    "    def hi(self):\n",
    "        print(\"Hi from child\")\n",
    "\n",
    "c = Child()\n",
    "c.hi()\n",
    "c.a()\n",
    "c.b()"
   ]
  },
  {
   "cell_type": "code",
   "execution_count": 47,
   "id": "cb37d630-6e65-4e66-9c51-839a8bbdf6ac",
   "metadata": {},
   "outputs": [
    {
     "data": {
      "text/plain": [
       "22"
      ]
     },
     "execution_count": 47,
     "metadata": {},
     "output_type": "execute_result"
    }
   ],
   "source": [
    "#@property\n",
    "class Student:\n",
    "    def __init__(self, phy, chem):\n",
    "        self.phy = phy\n",
    "        self.chem = chem\n",
    "\n",
    "    @property #auto updates the dependent attribut, turns method to attribute\n",
    "    def percentage(self):\n",
    "        return (self.phy+self.chem)//2\n",
    "\n",
    "s = Student(25, 24)\n",
    "s.phy = 20\n",
    "s.percentage"
   ]
  }
 ],
 "metadata": {
  "kernelspec": {
   "display_name": "Python 3 (ipykernel)",
   "language": "python",
   "name": "python3"
  },
  "language_info": {
   "codemirror_mode": {
    "name": "ipython",
    "version": 3
   },
   "file_extension": ".py",
   "mimetype": "text/x-python",
   "name": "python",
   "nbconvert_exporter": "python",
   "pygments_lexer": "ipython3",
   "version": "3.12.0"
  }
 },
 "nbformat": 4,
 "nbformat_minor": 5
}
