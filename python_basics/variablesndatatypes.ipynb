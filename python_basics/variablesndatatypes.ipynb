{
 "cells": [
  {
   "cell_type": "markdown",
   "id": "2aae5ed5-00ed-4337-ae2f-159540a2c25b",
   "metadata": {},
   "source": [
    "# Variables"
   ]
  },
  {
   "cell_type": "code",
   "execution_count": 1,
   "id": "f5d2cf9a-085e-4364-900e-dbdf25e11603",
   "metadata": {},
   "outputs": [
    {
     "name": "stdout",
     "output_type": "stream",
     "text": [
      "<class 'int'> <class 'str'> <class 'str'>\n"
     ]
    }
   ],
   "source": [
    "#variables\n",
    "a = 1\n",
    "d = int(4) #specific type\n",
    "b = \"python\"\n",
    "c = str(a) #casting\n",
    "print(type(a), type(b), type(c))\n",
    "x, y, z = 1, 4, 8 #multiple values to multiple variables\n",
    "q=w=e=7 #one value to multiple varibles\n",
    "\n"
   ]
  },
  {
   "cell_type": "code",
   "execution_count": 5,
   "id": "8e462f54-ce1f-4270-9c58-f51d9b7b1eee",
   "metadata": {},
   "outputs": [
    {
     "name": "stdout",
     "output_type": "stream",
     "text": [
      "global: cat\n",
      "hi kitten\n"
     ]
    }
   ],
   "source": [
    "#global and local scopes\n",
    "x = \"cat\"\n",
    "def func():\n",
    "    global x\n",
    "    print(\"global: \" + x)\n",
    "    x = \"kitten\"\n",
    "    print(\"hi \" + x)\n",
    "\n",
    "func()\n",
    "    "
   ]
  },
  {
   "cell_type": "markdown",
   "id": "39b91d81-d671-4ed0-890e-d99e7feadf64",
   "metadata": {},
   "source": [
    "# Data types in python\n",
    "- Text- str\n",
    "- Numeric: int, float, complex\n",
    "- Sequence: list, tuple range\n",
    "- Mapping: dictionary\n",
    "- Set: set, frozenset\n",
    "- Boolean: bool\n",
    "- Binary: bytes, bytearray, memoryview\n",
    "- None: NoneType"
   ]
  },
  {
   "cell_type": "code",
   "execution_count": 28,
   "id": "646b27ba-37c3-4821-9bd4-a5bfd320340f",
   "metadata": {},
   "outputs": [
    {
     "name": "stdout",
     "output_type": "stream",
     "text": [
      "cats 1 22.13 1j [1, 3, 'f', 2.2] (1, 3, 'd') range(0, 6) {'hello': 'world'} {1, 3, 4} frozenset({9, 2, 5}) True b'Hello' bytearray(b'\\x00\\x00\\x00\\x00\\x00') <memory at 0x0000023AC13737C0> None\n"
     ]
    }
   ],
   "source": [
    "string = \"cats\"\n",
    "integer = 1\n",
    "Float = 22.13\n",
    "Complex = 1j\n",
    "List = [1, 3, \"f\", 2.2]\n",
    "Tuple =(1, 3, \"d\")\n",
    "Range = range(6)\n",
    "Dict = {\"hello\": \"world\"}\n",
    "Set = {1,3,4}\n",
    "Frozenset = frozenset({2, 5, 9})\n",
    "Bool=True\n",
    "Bytes = b\"Hello\"\n",
    "ByteA = bytearray(5)\n",
    "MemoryView = memoryview(bytes(5))\n",
    "Nonetype = None\n",
    "print(string, integer, Float,Complex, List, Tuple, Range, Dict, Set, Frozenset, Bool, Bytes, ByteA, MemoryView, Nonetype)"
   ]
  },
  {
   "cell_type": "markdown",
   "id": "9fb104fb-1859-4b3b-9e28-add15383e6ce",
   "metadata": {},
   "source": [
    "# String"
   ]
  },
  {
   "cell_type": "code",
   "execution_count": 21,
   "id": "9423d60f-43de-433f-bd3b-c71207112f77",
   "metadata": {},
   "outputs": [
    {
     "name": "stdout",
     "output_type": "stream",
     "text": [
      "hi\n",
      "you are\n",
      "a cat\n",
      " \n",
      "hi yo\n",
      "u are a cat\n",
      " are\n",
      "tac a era uoy ih\n",
      " ca\n",
      "h\n",
      "i\n",
      " \n",
      "y\n",
      "o\n",
      "u\n",
      " \n",
      "a\n",
      "r\n",
      "e\n",
      " \n",
      "a\n",
      " \n",
      "c\n",
      "a\n",
      "t\n",
      "16\n",
      "True\n",
      "yes\n",
      "False\n",
      "meow\n"
     ]
    }
   ],
   "source": [
    "#strings\n",
    "a = \"\"\"hi\n",
    "you are\n",
    "a cat\"\"\"\n",
    "print(a) #multiline strings\n",
    "\n",
    "#strings as array and slicing\n",
    "array = \"hi you are a cat\"\n",
    "print(array[2])\n",
    "print(array[:5])\n",
    "print(array[5:])\n",
    "print(array[6:10])\n",
    "print(array[::-1])\n",
    "print(array[-4:-1])\n",
    "\n",
    "#looping\n",
    "for i in array:\n",
    "    print(i)\n",
    "\n",
    "#string lenght\n",
    "print(len(array))\n",
    "\n",
    "#check string\n",
    "print(\"cat\" in array)\n",
    "if \"cat\" in array:\n",
    "    print(\"yes\")\n",
    "print(\"cat\" not in array)\n",
    "if \"cat\" not in array:\n",
    "    print(\"no\")\n",
    "else:\n",
    "    print(\"meow\")\n"
   ]
  },
  {
   "cell_type": "code",
   "execution_count": 32,
   "id": "0597a515-61b6-4b3e-8b93-1af7e3a34595",
   "metadata": {},
   "outputs": [
    {
     "name": "stdout",
     "output_type": "stream",
     "text": [
      "THIS IS A STRING\n",
      "this is a string\n",
      "this is a string\n",
      "this is a STRING\n",
      "['this', 'is', 'a', 'string']\n",
      "cat meows\n"
     ]
    }
   ],
   "source": [
    "#string formatting\n",
    "s = 'this is a string'\n",
    "print(s.upper()) #uppercase\n",
    "print(s.lower()) #lowercase\n",
    "print(s.strip()) #remove white spaces\n",
    "print(s.replace(\"string\", \"STRING\")) #replaces the quoted\n",
    "print(s.split(\" \")) #splits at the quoted element\n",
    "print(\"cat\" + \" \" + \"meows\") #concatenation"
   ]
  },
  {
   "cell_type": "code",
   "execution_count": 47,
   "id": "e8fa7a8e-464e-45db-bc98-5ee9ac156a5d",
   "metadata": {},
   "outputs": [
    {
     "name": "stdout",
     "output_type": "stream",
     "text": [
      "there are 7 cats and there is 40.00 kg of food.  Hence each cat gets 5.71 kg of food\n",
      "hello \"world\" \n",
      "hello \n",
      "world\n"
     ]
    }
   ],
   "source": [
    "#string format - combining strings with numerical value. write f before the string and put variables and operators in {}\n",
    "count = 7\n",
    "amt = 40\n",
    "s = f\"there are {count} cats\"\n",
    "s1 =f\"and there is {amt:.2f} kg of food. \" # : is used to include a modifier followed by formatting\n",
    "s2 =f\"Hence each cat gets {(amt / count):.2f} kg of food\" #can also format operations\n",
    "print(s, s1, s2)\n",
    "\n",
    "#escape characters - writing illegal characters\n",
    "s3 = \"hello \\\"world\\\"\"\n",
    "s4 = \"\\nhello \\nworld\"\n",
    "print(s3, s4)"
   ]
  },
  {
   "cell_type": "markdown",
   "id": "dcb80c2b-39c4-47df-8110-e29c435faf94",
   "metadata": {},
   "source": [
    "# Boolean"
   ]
  },
  {
   "cell_type": "code",
   "execution_count": 53,
   "id": "2491bad1-51ad-4445-a02b-61c2647dd73b",
   "metadata": {},
   "outputs": [
    {
     "name": "stdout",
     "output_type": "stream",
     "text": [
      "True\n",
      "True\n",
      "True\n",
      "False False False\n"
     ]
    }
   ],
   "source": [
    "#booleans\n",
    "print(22>13)\n",
    "print(bool(\"cat\"))\n",
    "print(bool(2))\n",
    "print(bool(0), bool(()), bool(None))"
   ]
  },
  {
   "cell_type": "markdown",
   "id": "caa34269-2875-4719-8023-95e065d68dc5",
   "metadata": {},
   "source": [
    "# PythonCollections\n",
    "- **List** is a collection which is *ordered* and *changeable*. Allows duplicate members.\n",
    "- **Tuple** is a collection which is *ordered* and *unchangeable*. Allows duplicate members.\n",
    "- **Set** is a collection which is *unordered*, *unchangeable*, and unindexed. No duplicate members.\n",
    "  - **Note:** Set items are unchangeable, but you can remove items and add new items.\n",
    "- **Dictionary** is a collection which is *ordered* and *changeable*. No duplicate members.\n"
   ]
  },
  {
   "cell_type": "markdown",
   "id": "0b369fcf-a1fa-43db-b8c5-2e1ccfb2602f",
   "metadata": {},
   "source": [
    "# List"
   ]
  },
  {
   "cell_type": "code",
   "execution_count": 4,
   "id": "73a7501d-bef8-4a4f-bb18-312da664aca0",
   "metadata": {},
   "outputs": [
    {
     "name": "stdout",
     "output_type": "stream",
     "text": [
      "6\n",
      "[6, 5, 7, 'cat']\n",
      "[6, 5, 7, 'cat', 8]\n",
      "[5, 7, 'cat']\n",
      "yes\n",
      "[5, 'ginger', 'calico', 'tuxedo']\n",
      "[5, 'g', 'calico', 'tuxedo']\n",
      "[5, 'tortoiseshell', 'tuxedo']\n",
      "[5, 'tortoiseshell', 'shorthair', 'tuxedo']\n",
      "[]\n",
      "<class 'list'>\n"
     ]
    }
   ],
   "source": [
    "#lists\n",
    "list = [6, 5, 7, \"cat\"]\n",
    "print(list[0])\n",
    "print(list)\n",
    "\n",
    "#adds to the end\n",
    "list.append(8)\n",
    "print(list)\n",
    "\n",
    "#removes from the end or given index\n",
    "list.pop() \n",
    "list.pop(0)\n",
    "print(list)\n",
    "len(list)\n",
    "\n",
    "#check if present in list\n",
    "if \"cat\" in list:\n",
    "    print(\"yes\")\n",
    "\n",
    "#change range of item values\n",
    "list[1:3] = [\"ginger\", \"calico\", \"tuxedo\"]\n",
    "print(list)\n",
    "\n",
    "list[1:3] = [\"g\", \"calico\"]\n",
    "print(list)\n",
    "\n",
    "list[1:3] = [\"tortoiseshell\"]\n",
    "print(list)\n",
    "\n",
    "#insert at index\n",
    "list.insert(2, \"shorthair\")\n",
    "print(list)\n",
    "\n",
    "#remove specific element\n",
    "list.remove(list[0])\n",
    "list.remove(\"tuxedo\")\n",
    "del list[1]\n",
    "list.clear()\n",
    "print(list)\n",
    "\n",
    "print(type(list))"
   ]
  },
  {
   "cell_type": "code",
   "execution_count": 70,
   "id": "cde1a6e4-eddc-4b83-b187-f685cf2d5e8f",
   "metadata": {},
   "outputs": [
    {
     "name": "stdout",
     "output_type": "stream",
     "text": [
      "[1, 2, 3, 4, 'a', 'b', 'c', 6, 7, 8] ['a', 'b', 'c']\n"
     ]
    }
   ],
   "source": [
    "#append list2 to list1\n",
    "l1 = [1, 2, 3, 4]\n",
    "l2 = [\"a\", \"b\", \"c\"]\n",
    "t1 = (6, 7, 8)\n",
    "l1.extend(l2)\n",
    "l1.extend(t1)\n",
    "print(l1, l2)"
   ]
  },
  {
   "cell_type": "code",
   "execution_count": 29,
   "id": "328b8464-d98f-4f4b-a344-e3a07a038442",
   "metadata": {},
   "outputs": [
    {
     "name": "stdout",
     "output_type": "stream",
     "text": [
      "[0, 1, 2, 4, 5, 8]\n",
      "[8, 5, 4, 2, 1, 0]\n",
      "[0, 1, 2, 4, 5, 8]\n",
      "[5, 4, 8, 2, 1, 0]\n",
      "[0, 1, 2, 8, 4, 5]\n"
     ]
    }
   ],
   "source": [
    "l1 = [1, 2, 4, 5, 8, 0]\n",
    "\n",
    "#sorting\n",
    "l1.sort()\n",
    "print(l1)\n",
    "l1.sort(reverse=True)\n",
    "print(l1)\n",
    "print(sorted(l1))\n",
    "\n",
    "#custom sort - you can choose the fuction to sort accordingly\n",
    "def sort_custom(n):\n",
    "    return abs(n-5)\n",
    "l1.sort(key = sort_custom)\n",
    "print(l1)\n",
    "\n",
    "#reverse list\n",
    "l1.reverse()\n",
    "print(l1)"
   ]
  },
  {
   "cell_type": "markdown",
   "id": "7b2e65e6-b153-4d65-b5c5-72e4edd509db",
   "metadata": {},
   "source": [
    "**Note:** sort() is case sensitive and capital letters are sorted first, for case insensitivity use key=str.lower"
   ]
  },
  {
   "cell_type": "code",
   "execution_count": 26,
   "id": "218fb4da-0299-4f64-8f3f-a4eceb0f160a",
   "metadata": {},
   "outputs": [
    {
     "name": "stdout",
     "output_type": "stream",
     "text": [
      "[0, 1, 2, 4, 5, 8]\n",
      "[8, 5, 4, 2, 1, 0]\n",
      "[0, 1, 2, 4, 5, 8]\n",
      "8 5 4 2 1 0 8 5 4 2 1 0 8 5 4 2 1 0 "
     ]
    }
   ],
   "source": [
    "l1 = [1, 2, 4, 5, 8, 0]\n",
    "\n",
    "#for loop through list\n",
    "for i in l1:\n",
    "    print(i, end=\" \")\n",
    "#for loop through index of list\n",
    "for i in range(len(l1)):\n",
    "    print(l1[i],  end=\" \")\n",
    "\n",
    "#while loop through a list\n",
    "i = 0\n",
    "while i< len(l1):\n",
    "    print(l1[i], end=\" \")\n",
    "    i+=1"
   ]
  },
  {
   "cell_type": "markdown",
   "id": "ff372f3e-13cc-43e9-8dd9-8b8216d56859",
   "metadata": {},
   "source": [
    "### List Comprehension\n",
    "- gives shortest code\n",
    "- newList = [ expression(element) for element in oldList if condition ] "
   ]
  },
  {
   "cell_type": "code",
   "execution_count": 35,
   "id": "c2c48407-08f3-425c-878f-8266bb097469",
   "metadata": {},
   "outputs": [
    {
     "name": "stdout",
     "output_type": "stream",
     "text": [
      "[1, 2, 3, 6, 0] [1, 2, 3, 6, 0]\n",
      "[1, 2, 3, 6, 0, 1, 2, 3, 6, 0]\n",
      "[1, 2, 3, 6, 0, 1, 2, 3, 6, 0]\n",
      "[1, 2, 3, 6, 0, 1, 2, 3, 6, 0]\n"
     ]
    }
   ],
   "source": [
    "#copy a list\n",
    "l1 = [1,2,3,6,0]\n",
    "\n",
    "lnew = l1.copy()\n",
    "lnew2 = l1[:]\n",
    "\n",
    "print(lnew, lnew2)\n",
    "\n",
    "#join lists\n",
    "ljoin = lnew + lnew2\n",
    "print(ljoin)\n",
    "\n",
    "for i in lnew2:\n",
    "    l1.append(i)\n",
    "print(l1)\n",
    "\n",
    "lnew.extend(lnew2)\n",
    "print(lnew)\n",
    "\n"
   ]
  },
  {
   "cell_type": "markdown",
   "id": "ef88faab-4a04-4bec-812e-9bcf7159ead6",
   "metadata": {},
   "source": [
    "# Tuple"
   ]
  },
  {
   "cell_type": "markdown",
   "id": "2be82ac8-08de-4214-9ac8-cfe73a927368",
   "metadata": {},
   "source": [
    "**TUPLE Note:** \n",
    "- To create a tuple with only one item, you have to add a comma after the item, otherwise Python will recognize it as a string. Example - tuple = (\"cats\",)\n",
    "- To change values of tuple convert it into list then convert it back to tuple, no other way to insert, delete or update the elements of it.\n",
    "- You are allowed to add tuples to tuples.\n",
    "- You can directly delete tuple by del.\n",
    "- packing tuples mean to write elements to one.\n",
    "- unpacking it is assigning the values back to separate variables."
   ]
  },
  {
   "cell_type": "code",
   "execution_count": 3,
   "id": "376e82e6-7cbd-4aee-b213-878fde0f4571",
   "metadata": {},
   "outputs": [
    {
     "name": "stdout",
     "output_type": "stream",
     "text": [
      "grape\n",
      "['cherry', 'apple', 'plum']\n",
      "('grape', 'berry', 'cherry', 'grape', 'berry', 'cherry', 'apple', 'plum') ('grape', 'berry', 'cherry', 'grape', 'berry', 'cherry')\n",
      "<class 'tuple'>\n"
     ]
    }
   ],
   "source": [
    "#unpacking tuples\n",
    "t1 =(\"grape\", \"berry\", \"cherry\")\n",
    "(green, blue, red) = t1\n",
    "print(green)\n",
    "\n",
    "#if the variables are less than number of elements\n",
    "t2 = (\"grape\", \"berry\", \"cherry\", \"apple\", \"plum\")\n",
    "(green, blue, *red) = t2\n",
    "print(red)\n",
    "\n",
    "#join tuples\n",
    "t3 = t1+t2\n",
    "t4 =t1*2\n",
    "print(t3, t4)\n",
    "\n",
    "print(type(t1))"
   ]
  },
  {
   "cell_type": "markdown",
   "id": "24bc2dee-db20-450a-b908-21c1ec64ae9e",
   "metadata": {},
   "source": [
    "# Sets"
   ]
  },
  {
   "cell_type": "markdown",
   "id": "278189fc-0e54-403c-8c84-18f4154f191e",
   "metadata": {},
   "source": [
    "**SETS Note:** \n",
    "- You cannot access items in a set by referring to an index or a key.\n",
    "- In set, false & 0, true & 1 are considered same hence both cant be used in same set as repetitions are not allowed."
   ]
  },
  {
   "cell_type": "code",
   "execution_count": 2,
   "id": "5d4fd21c-ef7b-4ce3-8c81-5a1d390d1dee",
   "metadata": {},
   "outputs": [
    {
     "name": "stdout",
     "output_type": "stream",
     "text": [
      "1\n",
      "2\n",
      "3\n",
      "4\n",
      "5\n",
      "6\n",
      "<class 'set'>\n",
      "{1, 2, 3, 4, 5, 6, 9}\n",
      "{1, 2, 3, 4, 5, 6, 9, 11, 44, 13, 22}\n",
      "{1, 2, 3, 4, 5, 6, 's', 9, 11, 44, 13, 'a', 'b', 22}\n",
      "{1, 2, 3, 4, 5, 6, 's', 11, 44, 13, 'a', 'b', 22}\n",
      "{1, 2, 3, 4, 5, 6, 's', 11, 44, 13, 'a', 22}\n",
      "{2, 3, 4, 5, 6, 's', 11, 44, 13, 'a', 22}\n",
      "set()\n"
     ]
    }
   ],
   "source": [
    "#access elements of set\n",
    "set1 = {1,4,3,5,2,6}\n",
    "for i in set1:\n",
    "    print(i)\n",
    "\n",
    "print(type(set1))\n",
    "\n",
    "#add element to set\n",
    "set1.add(9)\n",
    "print(set1)\n",
    "\n",
    "#add sets to existing set or iterable (list, tuple etc)\n",
    "set2 = {11, 22, 13, 44}\n",
    "set1.update(set2)\n",
    "print(set1)\n",
    "list1 = [\"a\", \"b\", \"s\"]\n",
    "set1.update(list1)\n",
    "print(set1)\n",
    "\n",
    "#remove items from set\n",
    "set1.remove(9) #will raise error if item not present\n",
    "print(set1)\n",
    "set1.discard(\"b\") #will not raise error if item not present\n",
    "print(set1)\n",
    "set1.pop() #removes random item\n",
    "print(set1)\n",
    "\n",
    "#clear the set\n",
    "set1.clear()\n",
    "print(set1)\n",
    "\n",
    "#delete the set\n",
    "del set1"
   ]
  },
  {
   "cell_type": "markdown",
   "id": "2d69272f-a067-4a80-a1ff-cd9b61bec0be",
   "metadata": {},
   "source": [
    "**Note:**\n",
    "- *union()* or \"|\" and *update()* methods joins all items from both sets.\n",
    "- *intersection()* or \"&\" method keeps ONLY the duplicates.\n",
    "- *difference()* or \"-\" method keeps the items from the first set that are not in the other set(s).\n",
    "- *symmetric_difference()* or \"^\" method keeps all items EXCEPT the duplicates.\n",
    "- the symbols only work when both operands are sets. with set and different iterable use functions.\n",
    "- symmetric_difference_update(), difference_update(), intersection_update() return updated set1 instead of creating a new set."
   ]
  },
  {
   "cell_type": "code",
   "execution_count": 62,
   "id": "40f65ea3-7979-410d-b764-bf7edb796c2e",
   "metadata": {},
   "outputs": [
    {
     "name": "stdout",
     "output_type": "stream",
     "text": [
      "{0, 1, 2, 3, 4, 5, 6}\n",
      "{3, 4, 5}\n",
      "{1, 2}\n",
      "{0, 6}\n",
      "{0, 1, 2, 3, 4, 5, 6}\n",
      "{0, 1, 2, 6}\n"
     ]
    }
   ],
   "source": [
    "#join sets\n",
    "s1 = {1, 2, 3, 4, 5}\n",
    "s2 = {5, 3, 6, 4, 0}\n",
    "\n",
    "#s3 = s1.union(s2)\n",
    "s3 = s1 | s2\n",
    "print(s3)\n",
    "\n",
    "#s4 = s1.intersection(s2)\n",
    "s4 = s1 & s2\n",
    "print(s4)\n",
    "\n",
    "#s5 = s1.difference(s2)\n",
    "s5 = s1 - s2\n",
    "print(s5)\n",
    "s6 = s2 - s1\n",
    "print(s6)\n",
    "\n",
    "s7 = s6| s4| s5\n",
    "print(s7)\n",
    "\n",
    "#s8 = s1.symmetric_difference(s2)\n",
    "s8 = s1^s2\n",
    "print(s8)"
   ]
  },
  {
   "cell_type": "markdown",
   "id": "54e91ab0-658c-4412-8f92-31ec62eaeaeb",
   "metadata": {},
   "source": [
    "# Dictionary"
   ]
  },
  {
   "cell_type": "code",
   "execution_count": 42,
   "id": "1c7cbe6a-755f-42a5-b04f-ab819fe10796",
   "metadata": {},
   "outputs": [
    {
     "name": "stdout",
     "output_type": "stream",
     "text": [
      "<class 'dict'>\n",
      "3\n",
      "3\n",
      "dict_keys(['a', 'b', 'c'])\n",
      "dict_values([1, 2, 3])\n",
      "dict_items([('a', 1), ('b', 2), ('c', 3)])\n",
      "{'a': 2, 'b': 2, 'c': 7, 'd': 10, 'e': 12}\n",
      "{'a': 2, 'd': 10}\n",
      "{}\n",
      "{'a': (1, 2), 'b': (1, 2), 'c': (1, 2)}\n"
     ]
    }
   ],
   "source": [
    "dictionary ={\n",
    "    \"a\":1,\n",
    "    \"b\":2,\n",
    "    \"c\":3\n",
    "}\n",
    "print(type(dictionary))\n",
    "\n",
    "#accessing element\n",
    "print(dictionary[\"c\"])\n",
    "print(dictionary.get(\"c\"))\n",
    "print(dictionary.keys()) #displays list of keys in dictionary\n",
    "print(dictionary.values()) #displays a list of all values\n",
    "print(dictionary.items()) #displays item as list of tuples\n",
    "\n",
    "#update/add element\n",
    "dictionary[\"c\"] = 7\n",
    "dictionary[\"d\"] = 10\n",
    "dictionary.update({\"a\":2})\n",
    "dictionary.update({\"e\":12})\n",
    "print(dictionary)\n",
    "\n",
    "#remove element\n",
    "dictionary.pop(\"b\") #specific keyname\n",
    "dictionary.popitem() #last inserted\n",
    "del dictionary[\"c\"]\n",
    "print(dictionary)\n",
    "#del dictionary- deletes the dictionary completely\n",
    "dictionary.clear()\n",
    "print(dictionary)\n",
    "\n",
    "#check if in dict\n",
    "\"c\" in dictionary\n",
    "\n",
    "#fromkeys()\n",
    "x = (\"a\", \"b\", \"c\")\n",
    "y =(1,2)\n",
    "newdict = dict.fromkeys(x,y)\n",
    "print(newdict)"
   ]
  },
  {
   "cell_type": "code",
   "execution_count": 32,
   "id": "f848f4da-24ee-4b0a-804d-2fb49a357d82",
   "metadata": {},
   "outputs": [
    {
     "name": "stdout",
     "output_type": "stream",
     "text": [
      "persian shorthair bengal \n",
      "\n",
      "white grey golden \n",
      "\n",
      "white grey golden \n",
      "\n",
      "('persian', 'white') ('shorthair', 'grey') ('bengal', 'golden') \n",
      "\n",
      "{'persian': 'white', 'shorthair': 'grey', 'bengal': 'golden'}\n",
      "{'persian': 'white', 'shorthair': 'grey', 'bengal': 'golden'}\n"
     ]
    }
   ],
   "source": [
    "#looping dictionaries\n",
    "d = {\n",
    "    \"persian\" : \"white\",\n",
    "    \"shorthair\" : \"grey\",\n",
    "    \"bengal\" : \"golden\"\n",
    "}\n",
    "\n",
    "for i in d:\n",
    "    print(i, end=\" \")\n",
    "print(\"\\n\")\n",
    "\n",
    "for i in d.values():\n",
    "    print(i, end=\" \")\n",
    "print(\"\\n\")\n",
    "\n",
    "for i in d:\n",
    "    print(d[i], end=\" \")\n",
    "print(\"\\n\")\n",
    "\n",
    "for i in d.items():\n",
    "    print(i, end=\" \")\n",
    "print(\"\\n\")\n",
    "\n",
    "#copy dictionary\n",
    "newd = d.copy()\n",
    "d1 = dict(d)\n",
    "print(newd)\n",
    "print(d1)"
   ]
  },
  {
   "cell_type": "code",
   "execution_count": 41,
   "id": "faf98e04-d3fb-4874-9507-c174e877ecec",
   "metadata": {},
   "outputs": [
    {
     "name": "stdout",
     "output_type": "stream",
     "text": [
      "{'a': {'v': 1, 'w': 2}, 'b': {'v': 13, 'w': 22}, 'c': {'v': 111, 'w': 222}}\n",
      "{'x': 2, 'y': 3} {'x': 2, 'y': 3} {'x': 2, 'y': 3} {'d1': {'x': 2, 'y': 3}, 'd2': {'x': 2, 'y': 3}, 'd3': {'x': 2, 'y': 3}}\n",
      "1\n",
      "x\n",
      "x\n",
      "y\n",
      "y\n"
     ]
    }
   ],
   "source": [
    "#nested dictionaries\n",
    "\n",
    "d = {\n",
    "    \"a\": {\n",
    "        \"v\" : 1,\n",
    "        \"w\" : 2\n",
    "    },\n",
    "\n",
    "    \"b\": {\n",
    "        \"v\" : 13,\n",
    "        \"w\" : 22\n",
    "    },\n",
    "\n",
    "    \"c\": {\n",
    "        \"v\" : 111,\n",
    "        \"w\" : 222\n",
    "    }   \n",
    "}\n",
    "\n",
    "d1 = {\n",
    "    \"x\" : 2,\n",
    "    \"y\" : 3\n",
    "}\n",
    "d2 = {\n",
    "    \"x\" : 2,\n",
    "    \"y\" : 3\n",
    "}\n",
    "d3 = {\n",
    "    \"x\" : 2,\n",
    "    \"y\" : 3\n",
    "}\n",
    "\n",
    "D = {\n",
    "    \"d1\":d1,\n",
    "    \"d2\":d2,\n",
    "    \"d3\":d3\n",
    "}\n",
    "\n",
    "print(d)\n",
    "print(d1, d2, d3, D)\n",
    "\n",
    "#access items in nested dictionary\n",
    "print(d[\"a\"][\"v\"])\n",
    "\n",
    "\n",
    "\n"
   ]
  },
  {
   "cell_type": "markdown",
   "id": "ce2efe04-2ab1-479f-8c3b-a4b6fc331f7f",
   "metadata": {},
   "source": [
    "# Summary PythonCollections\n",
    "- **List** - [a, b, c]\n",
    "- **Tuple** - (a, b, c)\n",
    "- **Set** - {a, b, c}\n",
    "- **Dictionary** - {key : value, key1 : value1}"
   ]
  }
 ],
 "metadata": {
  "kernelspec": {
   "display_name": "Python 3 (ipykernel)",
   "language": "python",
   "name": "python3"
  },
  "language_info": {
   "codemirror_mode": {
    "name": "ipython",
    "version": 3
   },
   "file_extension": ".py",
   "mimetype": "text/x-python",
   "name": "python",
   "nbconvert_exporter": "python",
   "pygments_lexer": "ipython3",
   "version": "3.12.0"
  }
 },
 "nbformat": 4,
 "nbformat_minor": 5
}
