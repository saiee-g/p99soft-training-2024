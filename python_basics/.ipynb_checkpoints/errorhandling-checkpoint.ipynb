{
 "cells": [
  {
   "cell_type": "markdown",
   "id": "5303da84-35d7-4378-928a-b811625e1889",
   "metadata": {},
   "source": [
    "# Exception Handling\n",
    "- try\n",
    "- except\n",
    "- else\n",
    "- finally"
   ]
  },
  {
   "cell_type": "code",
   "execution_count": 4,
   "id": "95c86f04-e334-4c7c-be21-a12329acd8cc",
   "metadata": {},
   "outputs": [
    {
     "name": "stdout",
     "output_type": "stream",
     "text": [
      "10.0\n",
      "hi from finally\n"
     ]
    },
    {
     "data": {
      "text/plain": [
       "'do not divide by 0'"
      ]
     },
     "execution_count": 4,
     "metadata": {},
     "output_type": "execute_result"
    }
   ],
   "source": [
    "def new():\n",
    "    try:\n",
    "        print(10/1)\n",
    "        print(10/0)\n",
    "    except:\n",
    "        return \"do not divide by 0\"\n",
    "    finally:\n",
    "        print(\"hi from finally\")\n",
    "\n",
    "new()"
   ]
  },
  {
   "cell_type": "code",
   "execution_count": 16,
   "id": "08737c2d-5003-445b-ac24-e4effcc5f088",
   "metadata": {},
   "outputs": [
    {
     "name": "stdin",
     "output_type": "stream",
     "text": [
      "enter an integer a u\n"
     ]
    },
    {
     "name": "stdout",
     "output_type": "stream",
     "text": [
      "not an integer\n",
      "checking type of input\n"
     ]
    }
   ],
   "source": [
    "def check():\n",
    "    try:\n",
    "        n = int(input(\"enter an integer a\"))\n",
    "    except ValueError:\n",
    "        print(\"not an integer\")\n",
    "    else:\n",
    "        print(\"thank you\")\n",
    "    finally:\n",
    "        print(\"checking type of input\")\n",
    "\n",
    "check()\n",
    "        "
   ]
  },
  {
   "cell_type": "markdown",
   "id": "d74a05f2-3c88-4350-8648-1cb13be6f13f",
   "metadata": {},
   "source": [
    "# Errors in python"
   ]
  },
  {
   "cell_type": "code",
   "execution_count": 23,
   "id": "e7dc020d-624f-4579-b9cf-30278c5e0fff",
   "metadata": {},
   "outputs": [
    {
     "ename": "ModuleNotFoundError",
     "evalue": "No module named 'maths'",
     "output_type": "error",
     "traceback": [
      "\u001b[1;31m---------------------------------------------------------------------------\u001b[0m",
      "\u001b[1;31mModuleNotFoundError\u001b[0m                       Traceback (most recent call last)",
      "Cell \u001b[1;32mIn[23], line 5\u001b[0m\n\u001b[0;32m      1\u001b[0m \u001b[38;5;66;03m#num() #name error\u001b[39;00m\n\u001b[0;32m      2\u001b[0m \u001b[38;5;66;03m#for a in m #syntax error\u001b[39;00m\n\u001b[0;32m      3\u001b[0m \u001b[38;5;66;03m#a = int(\"a\") #valueerror\u001b[39;00m\n\u001b[0;32m      4\u001b[0m \u001b[38;5;66;03m#a = 1 + \"a\" #typeerror\u001b[39;00m\n\u001b[1;32m----> 5\u001b[0m \u001b[38;5;28;01mimport\u001b[39;00m \u001b[38;5;21;01mmaths\u001b[39;00m\n",
      "\u001b[1;31mModuleNotFoundError\u001b[0m: No module named 'maths'"
     ]
    }
   ],
   "source": [
    "#num() #name error\n",
    "#for a in m #syntax error\n",
    "#a = int(\"a\") #valueerror\n",
    "#a = 1 + \"a\" #typeerror\n",
    "#import maths #modulenotfounderror"
   ]
  }
 ],
 "metadata": {
  "kernelspec": {
   "display_name": "Python 3 (ipykernel)",
   "language": "python",
   "name": "python3"
  },
  "language_info": {
   "codemirror_mode": {
    "name": "ipython",
    "version": 3
   },
   "file_extension": ".py",
   "mimetype": "text/x-python",
   "name": "python",
   "nbconvert_exporter": "python",
   "pygments_lexer": "ipython3",
   "version": "3.12.0"
  }
 },
 "nbformat": 4,
 "nbformat_minor": 5
}
