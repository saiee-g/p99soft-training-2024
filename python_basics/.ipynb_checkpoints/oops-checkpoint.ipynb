{
 "cells": [
  {
   "cell_type": "code",
   "execution_count": 39,
   "id": "7e1b7730-7e8a-4f51-9964-df12167a167e",
   "metadata": {},
   "outputs": [
    {
     "name": "stdout",
     "output_type": "stream",
     "text": [
      "PREC\n",
      "PREC\n",
      "sid\n",
      "sid 9 [23, 24, 21]\n",
      "rahul 7 [25, 24, 23]\n",
      "sid\n",
      "22.666666666666668\n",
      "pass\n"
     ]
    }
   ],
   "source": [
    "class Student:\n",
    "    college_name = \"PREC\" #class attribute\n",
    "\n",
    "    def __init__(self):\n",
    "        pass        #default constructor\n",
    "\n",
    "    def __init__(self, name, roll_no, marks):  #parameterized constructor\n",
    "        self.name = name\n",
    "        self.roll_no = roll_no\n",
    "        self.marks = marks\n",
    "        self.result = False\n",
    "        print(name, roll_no, marks)\n",
    "    \n",
    "    def get_name(self):\n",
    "        return self.name\n",
    "\n",
    "    def avg_marks(self):\n",
    "        marks = self.marks\n",
    "        return sum(marks)/len(marks)\n",
    "\n",
    "    def results(self):\n",
    "        avg = self.avg_marks()\n",
    "        result = self.result\n",
    "        if avg>12:\n",
    "            result = True\n",
    "            return \"pass\"\n",
    "        else:\n",
    "            return \"fail\"\n",
    "      \n",
    "    @staticmethod    #decorator for static method\n",
    "    def hello():       \n",
    "        print(\"hello\")\n",
    "        \n",
    "print(Student.college_name)\n",
    "print(s1.college_name)\n",
    "print(s1.name)\n",
    "s1 = Student(\"sid\", 9, [23, 24, 21])\n",
    "s2 = Student(\"rahul\", 7, [25, 24, 23])\n",
    "print(s1.get_name())\n",
    "print(s1.avg_marks())\n",
    "print(s1.results())"
   ]
  }
 ],
 "metadata": {
  "kernelspec": {
   "display_name": "Python 3 (ipykernel)",
   "language": "python",
   "name": "python3"
  },
  "language_info": {
   "codemirror_mode": {
    "name": "ipython",
    "version": 3
   },
   "file_extension": ".py",
   "mimetype": "text/x-python",
   "name": "python",
   "nbconvert_exporter": "python",
   "pygments_lexer": "ipython3",
   "version": "3.12.0"
  }
 },
 "nbformat": 4,
 "nbformat_minor": 5
}
